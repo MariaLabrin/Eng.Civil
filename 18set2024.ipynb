{
  "nbformat": 4,
  "nbformat_minor": 0,
  "metadata": {
    "colab": {
      "provenance": [],
      "authorship_tag": "ABX9TyMVH2SZoDnVOuTos0pQZH9G",
      "include_colab_link": true
    },
    "kernelspec": {
      "name": "python3",
      "display_name": "Python 3"
    },
    "language_info": {
      "name": "python"
    }
  },
  "cells": [
    {
      "cell_type": "markdown",
      "metadata": {
        "id": "view-in-github",
        "colab_type": "text"
      },
      "source": [
        "<a href=\"https://colab.research.google.com/github/MariaLabrin/Eng.Civil/blob/main/18set2024.ipynb\" target=\"_parent\"><img src=\"https://colab.research.google.com/assets/colab-badge.svg\" alt=\"Open In Colab\"/></a>"
      ]
    },
    {
      "cell_type": "markdown",
      "source": [
        "**Aula 5 - Atividades**"
      ],
      "metadata": {
        "id": "5M0SnsABnzVH"
      }
    },
    {
      "cell_type": "markdown",
      "source": [
        "1) Elaborar um programa em python que solicite ao\n",
        "usuário um valor inteiro e em seguida informe ao usuário se o valor é múltiplo de 3 ou não.\n"
      ],
      "metadata": {
        "id": "usyWYu_KosrF"
      }
    },
    {
      "cell_type": "code",
      "execution_count": 5,
      "metadata": {
        "colab": {
          "base_uri": "https://localhost:8080/"
        },
        "id": "-9XQ8Q2Fl_7Y",
        "outputId": "97d13753-739e-4a82-ca36-495105d42d52"
      },
      "outputs": [
        {
          "output_type": "stream",
          "name": "stdout",
          "text": [
            "Digite um número inteiro:15\n",
            "o numero é multiplo de 3\n"
          ]
        }
      ],
      "source": [
        "numero = int(input(\"Digite um número inteiro:\"))\n",
        "if numero % 3 == 0:\n",
        "  print(\"o numero é multiplo de 3\")\n",
        "else:\n",
        "  print(\"o número não é multiplo de 3\")"
      ]
    },
    {
      "cell_type": "markdown",
      "source": [
        "2) Dadas as notas a e b de um aluno, com pesos\n",
        "respectivamente 2 e 3; pede-se elaborar um programa em Python para calcular e exibir\n",
        "a média ponderada do aluno, verificar e informar, junto ao valor da sua média, se foi\n",
        "aprovado ou não (OBS: Considere aprovado se obtiver média igual ou superior a 5).\n"
      ],
      "metadata": {
        "id": "ZgsuH4Ohpy1E"
      }
    },
    {
      "cell_type": "code",
      "source": [
        "nota_a = float(input(\"Digite a nota A: \"))\n",
        "nota_b = float(input(\"Digite a nota B: \"))\n",
        "media_ponderada = (nota_a * 2 + nota_b * 3) / 5\n",
        "print(\"A média ponderada do aluno é:\", media_ponderada)\n",
        "if media_ponderada >= 5:\n",
        "    print(\"O aluno foi aprovado.\")\n",
        "else:\n",
        "    print(\"O aluno não foi aprovado.\")"
      ],
      "metadata": {
        "colab": {
          "base_uri": "https://localhost:8080/"
        },
        "id": "xW-jQjtYp5ol",
        "outputId": "fd987424-23db-441c-c45b-8ba94b54bf3c"
      },
      "execution_count": 9,
      "outputs": [
        {
          "output_type": "stream",
          "name": "stdout",
          "text": [
            "Digite a nota A: 9\n",
            "Digite a nota B: 8\n",
            "A média ponderada do aluno é: 8.4\n",
            "O aluno foi aprovado.\n"
          ]
        }
      ]
    },
    {
      "cell_type": "markdown",
      "source": [
        "3) Dado o algoritmo a seguir, elabore o código python do programa em questão:\n",
        "Início\n",
        "Leia os três valores: a, b e c.\n",
        "Compare os valores:\n",
        "Se a é menor ou igual a b e a é menor ou igual a c, então\n",
        "a é o menor valor.\n",
        "Caso contrário, se b é menor ou igual a a e b é menor ou igual a c, então\n",
        "b é o menor valor.\n",
        "Caso contrário,\n",
        "c é o menor valor.\n",
        "Exiba o menor valor."
      ],
      "metadata": {
        "id": "1CU8NA77sTpG"
      }
    },
    {
      "cell_type": "code",
      "source": [
        "a = float(input(\"Digite o valor de a: \"))\n",
        "b = float(input(\"Digite o valor de b: \"))\n",
        "c = float(input(\"Digite o valor de c: \"))\n",
        "\n",
        "if a <= b and a <= c:\n",
        "    menor_valor = a\n",
        "elif b <= a and b <= c:\n",
        "    menor_valor = b\n",
        "else:\n",
        "    menor_valor = c\n",
        "\n",
        "print(\"O menor valor é:\", menor_valor)\n"
      ],
      "metadata": {
        "colab": {
          "base_uri": "https://localhost:8080/"
        },
        "id": "KQvQTAQhsZme",
        "outputId": "e4d0cb40-9a04-4270-d69a-f0eb1536eee4"
      },
      "execution_count": 14,
      "outputs": [
        {
          "output_type": "stream",
          "name": "stdout",
          "text": [
            "Digite o valor de a: 52\n",
            "Digite o valor de b: 21\n",
            "Digite o valor de c: 39\n",
            "O menor valor é: 21.0\n"
          ]
        }
      ]
    }
  ]
}