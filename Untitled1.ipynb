{
  "nbformat": 4,
  "nbformat_minor": 0,
  "metadata": {
    "colab": {
      "provenance": [],
      "authorship_tag": "ABX9TyNUmgJIkuDtEPGPGV0Me4uP",
      "include_colab_link": true
    },
    "kernelspec": {
      "name": "python3",
      "display_name": "Python 3"
    },
    "language_info": {
      "name": "python"
    }
  },
  "cells": [
    {
      "cell_type": "markdown",
      "metadata": {
        "id": "view-in-github",
        "colab_type": "text"
      },
      "source": [
        "<a href=\"https://colab.research.google.com/github/MariaLabrin/Eng.Civil/blob/main/Untitled1.ipynb\" target=\"_parent\"><img src=\"https://colab.research.google.com/assets/colab-badge.svg\" alt=\"Open In Colab\"/></a>"
      ]
    },
    {
      "cell_type": "markdown",
      "source": [
        "#Explicações do Massaki\n",
        "\n"
      ],
      "metadata": {
        "id": "StvZsIOdoKTN"
      }
    },
    {
      "cell_type": "code",
      "source": [
        "Num = int(input(\"digite um número:\"))\n",
        "quoc = num//2\n",
        "resto = num%2\n",
        "print(\"Quociente =  \",quoc)\n",
        "print(\"Resto = \",resto)\n",
        "\n"
      ],
      "metadata": {
        "id": "6clRrLynooiA"
      },
      "execution_count": null,
      "outputs": []
    }
  ]
}