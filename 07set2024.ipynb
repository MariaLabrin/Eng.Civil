{
  "nbformat": 4,
  "nbformat_minor": 0,
  "metadata": {
    "colab": {
      "provenance": [],
      "authorship_tag": "ABX9TyMTdqVqhYNQhlzTC+bsh0uZ",
      "include_colab_link": true
    },
    "kernelspec": {
      "name": "python3",
      "display_name": "Python 3"
    },
    "language_info": {
      "name": "python"
    }
  },
  "cells": [
    {
      "cell_type": "markdown",
      "metadata": {
        "id": "view-in-github",
        "colab_type": "text"
      },
      "source": [
        "<a href=\"https://colab.research.google.com/github/MariaLabrin/Eng.Civil/blob/main/07set2024.ipynb\" target=\"_parent\"><img src=\"https://colab.research.google.com/assets/colab-badge.svg\" alt=\"Open In Colab\"/></a>"
      ]
    },
    {
      "cell_type": "markdown",
      "source": [
        "**AULA 2 - PART 2**"
      ],
      "metadata": {
        "id": "7W_hHoVWmazv"
      }
    },
    {
      "cell_type": "markdown",
      "source": [
        "*SE(If)...SENÃO (Else)*"
      ],
      "metadata": {
        "id": "xM_alcRmmzq5"
      }
    },
    {
      "cell_type": "markdown",
      "source": [
        "exemplo 3"
      ],
      "metadata": {
        "id": "tt7ozEJnof7A"
      }
    },
    {
      "cell_type": "code",
      "source": [
        "numero = int(input(\"Digite um número inteiro\"))\n",
        "if numero % 2 == 0:\n",
        "  print(f\"o número {numero} é par. \")\n",
        "else:\n",
        "  print(f\"o número {numero} é impar.\")\n"
      ],
      "metadata": {
        "colab": {
          "base_uri": "https://localhost:8080/"
        },
        "id": "Saek0-RWmf_o",
        "outputId": "963c2172-9dde-4beb-fc6d-b34f45144ba2"
      },
      "execution_count": 5,
      "outputs": [
        {
          "output_type": "stream",
          "name": "stdout",
          "text": [
            "Digite um número inteiro6\n",
            "o número 6 é par. \n"
          ]
        }
      ]
    },
    {
      "cell_type": "code",
      "source": [
        "numero = int(input(\"Digite um número inteiro\"))\n",
        "if numero % 2 == 0:\n",
        "  print(f\"o número {numero} é par. \")\n",
        "else:\n",
        "  print(f\"o número {numero} é impar.\")"
      ],
      "metadata": {
        "colab": {
          "base_uri": "https://localhost:8080/"
        },
        "id": "1ng_IrP-n7or",
        "outputId": "e18cf8a4-16a1-46f3-9516-5a2f478bb328"
      },
      "execution_count": 6,
      "outputs": [
        {
          "output_type": "stream",
          "name": "stdout",
          "text": [
            "Digite um número inteiro9\n",
            "o número 9 é impar.\n"
          ]
        }
      ]
    },
    {
      "cell_type": "markdown",
      "source": [
        "exemplo 4"
      ],
      "metadata": {
        "id": "rX1F2hyboiI4"
      }
    },
    {
      "cell_type": "code",
      "source": [
        "import math\n",
        "numero = float(input(\"Digite um número: \"))\n",
        "if numero >= 0:\n",
        "  raiz_quadrada = math.sqrt(numero)\n",
        "  print(f\"A raiz quadrada de {numero} é {raiz_quadrada: .2f}.\")\n",
        "else:\n",
        "  print(\"não existe raiz real para esse número!\")\n"
      ],
      "metadata": {
        "colab": {
          "base_uri": "https://localhost:8080/"
        },
        "id": "1ICC3kESokZp",
        "outputId": "9d47a140-ac0e-4675-8c13-d1ecfc89e952"
      },
      "execution_count": 16,
      "outputs": [
        {
          "output_type": "stream",
          "name": "stdout",
          "text": [
            "Digite um número: 144\n",
            "A raiz quadrada de 144.0 é  12.00.\n"
          ]
        }
      ]
    },
    {
      "cell_type": "markdown",
      "source": [
        "exemplo 5"
      ],
      "metadata": {
        "id": "dCM9HwGvqWSQ"
      }
    },
    {
      "cell_type": "code",
      "source": [
        "from getopt import gnu_getopt\n",
        "comprimento = float(input(\"Digite o comprimento da camiseta em centimetros:\"))\n",
        "largura = float(input(\"Digite a largura da camiseta em centimetros:\"))\n",
        "if comprimento <= 60 and largura <= 45:\n",
        "    tamanho = PP\n",
        "elif comprimento <= 65 and largura <= 48:\n",
        "    tamanho = P\n",
        "elif comprimento <= 70 and largura <= 51:\n",
        "    tamanho = M\n",
        "elif comprimento <= 75 and largura <= 54:\n",
        "    tamanho = G\n",
        "elif comprimento <= 80 and largura <= 57:\n",
        "    tamanho = GG\n",
        "else:\n",
        "    tamanho = \"XGG\"\n",
        "print(f\"o tamanho da camiseta é {tamanho}.\")\n"
      ],
      "metadata": {
        "colab": {
          "base_uri": "https://localhost:8080/"
        },
        "id": "Rb-ZYJxRqY8g",
        "outputId": "984ee07b-a09b-4794-c1d7-3dc2c9468f53"
      },
      "execution_count": 20,
      "outputs": [
        {
          "output_type": "stream",
          "name": "stdout",
          "text": [
            "Digite o comprimento da camiseta em centimetros:85\n",
            "Digite a largura da camiseta em centimetros:60\n",
            "o tamanho da camiseta é XGG.\n"
          ]
        }
      ]
    }
  ]
}