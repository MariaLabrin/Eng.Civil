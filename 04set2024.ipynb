{
  "nbformat": 4,
  "nbformat_minor": 0,
  "metadata": {
    "colab": {
      "provenance": [],
      "authorship_tag": "ABX9TyNABSTKUBLpwYq4LYxHhFCA",
      "include_colab_link": true
    },
    "kernelspec": {
      "name": "python3",
      "display_name": "Python 3"
    },
    "language_info": {
      "name": "python"
    }
  },
  "cells": [
    {
      "cell_type": "markdown",
      "metadata": {
        "id": "view-in-github",
        "colab_type": "text"
      },
      "source": [
        "<a href=\"https://colab.research.google.com/github/MariaLabrin/Eng.Civil/blob/main/04set2024.ipynb\" target=\"_parent\"><img src=\"https://colab.research.google.com/assets/colab-badge.svg\" alt=\"Open In Colab\"/></a>"
      ]
    },
    {
      "cell_type": "markdown",
      "source": [
        "**AULA 2 04/09/2024**"
      ],
      "metadata": {
        "id": "j__EtwK-rq6g"
      }
    },
    {
      "cell_type": "markdown",
      "source": [
        "Criar a narrativa, pseudocódigo, fluxograma e código de um programa que\n",
        "solicite ao usuário digitar medida em polegadas e converter o valor dado\n",
        "para milímetros. (1”=25,4mm)\n",
        "\n",
        "Narrativa:\n",
        "Ler P;\n",
        "Calcular mm=25.4*P;\n",
        "Exibir mm\n",
        "\n",
        "Pseudocódigo:\n",
        "Início:\n",
        "Real: P, mm\n",
        "Ler P\n",
        "Calcular mm=25.4*P\n",
        "Exibir mm\n",
        "\n",
        "\n",
        "\n",
        "P=float(input(\"digit polegadas\")\n",
        "mm= P*25.4\n",
        "print(\"valor em mm=\",mm)"
      ],
      "metadata": {
        "id": "4Ezz98iurxGw"
      }
    },
    {
      "cell_type": "markdown",
      "source": [
        "**Exemplo 2 - Convrsão de polegada para milimetro**"
      ],
      "metadata": {
        "id": "jZBKjDaKr1Lh"
      }
    },
    {
      "cell_type": "code",
      "source": [
        "p = float(input(\"Digite valor em polegadas:\"))\n",
        "mm = p*25.4\n",
        "print(\"valor em milimetos: \",mm)"
      ],
      "metadata": {
        "colab": {
          "base_uri": "https://localhost:8080/"
        },
        "id": "0MqUJ1QOsHxb",
        "outputId": "3fe9c7cc-0902-41a6-ea5c-6d92e01d45f5"
      },
      "execution_count": 7,
      "outputs": [
        {
          "output_type": "stream",
          "name": "stdout",
          "text": [
            "Digite valor em polegadas:4\n",
            "valor em milimetos:  101.6\n"
          ]
        }
      ]
    },
    {
      "cell_type": "markdown",
      "source": [
        "***Exercicio 5***"
      ],
      "metadata": {
        "id": "cYYdxmiTsLEk"
      }
    },
    {
      "cell_type": "code",
      "source": [
        "from math import pi\n",
        "r= float(input(\"digite raio:\"))\n",
        "v= (4/3)*pi*r**3\n",
        "print(v)"
      ],
      "metadata": {
        "colab": {
          "base_uri": "https://localhost:8080/"
        },
        "id": "HvbWnD0fr_3i",
        "outputId": "7c49aff0-ef9a-4237-ee9b-6d2ddc931896"
      },
      "execution_count": 6,
      "outputs": [
        {
          "output_type": "stream",
          "name": "stdout",
          "text": [
            "digite raio:8\n",
            "2144.660584850632\n"
          ]
        }
      ]
    },
    {
      "cell_type": "markdown",
      "source": [
        "***Exercicio 6***"
      ],
      "metadata": {
        "id": "k3vOkv9osFHK"
      }
    },
    {
      "cell_type": "code",
      "source": [
        "import math\n",
        "g = float(input(\"Digite o ângulo em graus: \"))\n",
        "r = g * (math.pi / 180)\n",
        "print(f\"O ângulo em radianos é: {r:.4f}\")"
      ],
      "metadata": {
        "colab": {
          "base_uri": "https://localhost:8080/"
        },
        "id": "OP8ymBBuqcE7",
        "outputId": "5d1db672-656c-42a6-917d-616309f8018b"
      },
      "execution_count": 8,
      "outputs": [
        {
          "output_type": "stream",
          "name": "stdout",
          "text": [
            "Digite o ângulo em graus: 30\n",
            "O ângulo em radianos é: 0.5236\n"
          ]
        }
      ]
    },
    {
      "cell_type": "markdown",
      "source": [
        "***Exrcicio 7***"
      ],
      "metadata": {
        "id": "5yE9FGz1sS5N"
      }
    },
    {
      "cell_type": "code",
      "source": [
        "import math\n",
        "r = float(input(\"Digite o ângulo em radianos: \"))\n",
        "g = r * (180 / math.pi)\n",
        "print(f\"O ângulo em graus é: {g:.2f}\")\n"
      ],
      "metadata": {
        "colab": {
          "base_uri": "https://localhost:8080/"
        },
        "id": "75r4Ax2GrVYc",
        "outputId": "2214874b-2b8b-4512-8acf-f80d96d8a9ca"
      },
      "execution_count": 9,
      "outputs": [
        {
          "output_type": "stream",
          "name": "stdout",
          "text": [
            "Digite o ângulo em radianos: 0.5236\n",
            "O ângulo em graus é: 30.00\n"
          ]
        }
      ]
    },
    {
      "cell_type": "markdown",
      "source": [
        "***Exercicio 8***"
      ],
      "metadata": {
        "id": "H-ZB803rsVht"
      }
    },
    {
      "cell_type": "code",
      "source": [
        "import math\n",
        "r = float(input(\"Digite o ângulo em radianos: \"))\n",
        "g = r * (400 / (2 * math.pi))\n",
        "print(f\"O ângulo em grados é: {g:.2f}\")\n"
      ],
      "metadata": {
        "colab": {
          "base_uri": "https://localhost:8080/"
        },
        "id": "mrcm1p8MrkmO",
        "outputId": "a4a389dc-a2d2-420a-cab9-51b7a0e38e70"
      },
      "execution_count": 5,
      "outputs": [
        {
          "output_type": "stream",
          "name": "stdout",
          "text": [
            "Digite o ângulo em radianos: 6\n",
            "O ângulo em grados é: 381.97\n"
          ]
        }
      ]
    }
  ]
}